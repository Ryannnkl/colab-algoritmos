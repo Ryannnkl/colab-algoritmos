{
  "nbformat": 4,
  "nbformat_minor": 0,
  "metadata": {
    "colab": {
      "name": "MachineLearn lienarSVC",
      "provenance": [],
      "collapsed_sections": [],
      "authorship_tag": "ABX9TyM3+JVIT0ya7MoUG3ZaN7m0",
      "include_colab_link": true
    },
    "kernelspec": {
      "name": "python3",
      "display_name": "Python 3"
    }
  },
  "cells": [
    {
      "cell_type": "markdown",
      "metadata": {
        "id": "view-in-github",
        "colab_type": "text"
      },
      "source": [
        "<a href=\"https://colab.research.google.com/github/Ryannnkl/colab-algoritmos/blob/main/MachineLearn_lienarSVC.ipynb\" target=\"_parent\"><img src=\"https://colab.research.google.com/assets/colab-badge.svg\" alt=\"Open In Colab\"/></a>"
      ]
    },
    {
      "cell_type": "markdown",
      "metadata": {
        "id": "oL0VRERKJJ4F"
      },
      "source": [
        "## criação dos animais e rotulando o que eles tem\n",
        "- O treino x é os modelos de animais com suas caracteristicas\n",
        "- O treino y é a reposta do que eu sei que esta certo "
      ]
    },
    {
      "cell_type": "code",
      "metadata": {
        "id": "LXCnzxd2o-nQ"
      },
      "source": [
        "# [\"pelo longo\", \"orelhas caida\",\"perna curta\", \"faz auau\"]\n",
        "\n",
        "porco1 = [0, 1, 1, 0]\n",
        "porco2 = [0, 0, 1, 0]\n",
        "porco3 = [0, 1, 0, 0]\n",
        "\n",
        "cachorro1 = [1, 1,  1, 1]\n",
        "cachorro2 = [1, 0, 0, 0]\n",
        "cachorro3 = [1, 1 ,1, 1]\n",
        "\n",
        "treino_x = [porco1, porco2, porco3, cachorro1, cachorro2, cachorro3]\n",
        "\n",
        "treino_y = [1,1,1,0,0,0] # 1 porco 0 cachorro"
      ],
      "execution_count": null,
      "outputs": []
    },
    {
      "cell_type": "markdown",
      "metadata": {
        "id": "9ukDr1l_DIha"
      },
      "source": [
        "## Criação de de um modelo de aprendizagem linear\n",
        "\n",
        "> usando a biblioteca sklearn \n",
        "\n",
        "**.fit()** É o metodo para o modelo aprender "
      ]
    },
    {
      "cell_type": "code",
      "metadata": {
        "id": "6zXssn6IzfZo"
      },
      "source": [
        "from sklearn.svm import LinearSVC\n",
        "\n",
        "modelo = LinearSVC()\n",
        "\n",
        "modelo.fit(treino_x,treino_y)"
      ],
      "execution_count": null,
      "outputs": []
    },
    {
      "cell_type": "markdown",
      "metadata": {
        "id": "UZjQQZpxClvW"
      },
      "source": [
        "## Predizer qual é esse unico animal misterioso \n",
        "\n",
        "```\n",
        "animal_misterioso = [\"pelo longo\",\"perna curta\",\"faz auau\"]\n",
        "```\n"
      ]
    },
    {
      "cell_type": "code",
      "metadata": {
        "id": "riHOQ_Jmz1ra",
        "colab": {
          "base_uri": "https://localhost:8080/"
        },
        "outputId": "d933bbd2-68b7-4e3d-ed8b-721ffc77b7a0"
      },
      "source": [
        "animal_misterioso = [ 1, 1, 1, 1 ]\n",
        "resul = modelo.predict([animal_misterioso])\n",
        "print(\"porco\" if resul.item() == 1 else \"cachorro\")"
      ],
      "execution_count": null,
      "outputs": [
        {
          "output_type": "stream",
          "text": [
            "cachorro\n"
          ],
          "name": "stdout"
        }
      ]
    },
    {
      "cell_type": "code",
      "metadata": {
        "id": "m8CGmFT_0Pdt",
        "colab": {
          "base_uri": "https://localhost:8080/"
        },
        "outputId": "be3cff7c-fec1-4105-f6c4-766420850483"
      },
      "source": [
        "misterio1 = [1, 1, 1, 0 ]\n",
        "misterio2 = [1, 1, 0, 1]\n",
        "misterio3 = [0, 1, 1, 0]\n",
        "misterio4 = [0, 0, 1, 1]\n",
        "misterio5 = [1, 0, 1, 1]\n",
        "misterio6 = [1, 1, 1, 1]\n",
        "\n",
        "teste_x = [ misterio1, misterio2, misterio3, misterio4, misterio5, misterio6]\n",
        "teste_y = [0, 1, 1, 0, 0]\n",
        "\n",
        "previsoes = modelo.predict(teste_x)\n",
        "for animal in previsoes:\n",
        "  print(\"porco\" if animal == 1 else \"cachorro\")"
      ],
      "execution_count": null,
      "outputs": [
        {
          "output_type": "stream",
          "text": [
            "cachorro\n",
            "cachorro\n",
            "porco\n",
            "porco\n",
            "cachorro\n",
            "cachorro\n"
          ],
          "name": "stdout"
        }
      ]
    },
    {
      "cell_type": "markdown",
      "metadata": {
        "id": "Xmjkl7l1FsxR"
      },
      "source": [
        "## Identificar a curacia\n",
        "> taxa do quão certo o modelo acha que ta"
      ]
    },
    {
      "cell_type": "code",
      "metadata": {
        "id": "CuSWwxVQ1KsS",
        "colab": {
          "base_uri": "https://localhost:8080/"
        },
        "outputId": "e45d0cd3-33ba-4f0e-896b-da129e47fba2"
      },
      "source": [
        "from sklearn.metrics import accuracy_score\n",
        " \n",
        "curacia = accuracy_score(teste_y,previsoes)\n",
        "print(int(curacia*100),\"%\")"
      ],
      "execution_count": null,
      "outputs": [
        {
          "output_type": "stream",
          "text": [
            "80 %\n"
          ],
          "name": "stdout"
        }
      ]
    }
  ]
}